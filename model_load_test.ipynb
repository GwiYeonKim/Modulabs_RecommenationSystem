{
 "cells": [
  {
   "cell_type": "code",
   "execution_count": 4,
   "id": "2a8d526c",
   "metadata": {},
   "outputs": [],
   "source": [
    "import streamlit as st\n",
    "import pandas as pd\n",
    "import numpy as np\n",
    "import tensorflow as tf\n",
    "import os\n",
    "\n",
    "import joblib\n",
    "#from autoint import AutoIntModel, predict_model\n",
    "#from autointmlp import AutoIntMLP, predict_model\n",
    "from autointmlp import AutoIntMLPModel, predict_model\n",
    "from tensorflow.keras.models import load_model"
   ]
  },
  {
   "cell_type": "code",
   "execution_count": 5,
   "id": "7b890cda",
   "metadata": {},
   "outputs": [],
   "source": [
    "project_path = os.path.abspath(os.getcwd())\n",
    "data_dir_nm = 'data'\n",
    "movielens_dir_nm = 'ml-1m'\n",
    "model_dir_nm = 'model'\n",
    "data_path = f\"{project_path}/{data_dir_nm}\"\n",
    "model_path = f\"{project_path}/{model_dir_nm}\"\n",
    "field_dims = np.load(f'{data_path}/field_dims.npy')\n",
    "dropout= 0.4\n",
    "embed_dim= 16"
   ]
  },
  {
   "cell_type": "code",
   "execution_count": 9,
   "id": "0f338a21",
   "metadata": {},
   "outputs": [
    {
     "ename": "ValueError",
     "evalue": "A total of 8 objects could not be loaded. Example error message for object <Dense name=dense_13, built=True>:\n\nLayer 'dense_13' expected 2 variables, but received 0 variables during loading. Expected: ['kernel', 'bias']\n\nList of objects that could not be loaded:\n[<Dense name=dense_13, built=True>, <Dense name=dense_14, built=True>, <Dense name=dense_15, built=True>, <Embedding name=embedding_3, built=True>, <Dense name=dense_12, built=True>, <MultiHeadSelfAttention name=multi_head_self_attention_9, built=True>, <MultiHeadSelfAttention name=multi_head_self_attention_10, built=True>, <MultiHeadSelfAttention name=multi_head_self_attention_11, built=True>]",
     "output_type": "error",
     "traceback": [
      "\u001b[1;31m---------------------------------------------------------------------------\u001b[0m",
      "\u001b[1;31mValueError\u001b[0m                                Traceback (most recent call last)",
      "Cell \u001b[1;32mIn[9], line 11\u001b[0m\n\u001b[0;32m      6\u001b[0m model \u001b[38;5;241m=\u001b[39m AutoIntMLPModel(field_dims, embed_dim, att_layer_num\u001b[38;5;241m=\u001b[39m\u001b[38;5;241m3\u001b[39m, att_head_num\u001b[38;5;241m=\u001b[39m\u001b[38;5;241m2\u001b[39m, att_res\u001b[38;5;241m=\u001b[39m\u001b[38;5;28;01mTrue\u001b[39;00m, dnn_hidden_units\u001b[38;5;241m=\u001b[39m(\u001b[38;5;241m32\u001b[39m, \u001b[38;5;241m32\u001b[39m), dnn_activation\u001b[38;5;241m=\u001b[39m\u001b[38;5;124m'\u001b[39m\u001b[38;5;124mrelu\u001b[39m\u001b[38;5;124m'\u001b[39m,\n\u001b[0;32m      7\u001b[0m                              l2_reg_dnn\u001b[38;5;241m=\u001b[39m\u001b[38;5;241m0\u001b[39m, l2_reg_embedding\u001b[38;5;241m=\u001b[39m\u001b[38;5;241m1e-5\u001b[39m, dnn_use_bn\u001b[38;5;241m=\u001b[39m\u001b[38;5;28;01mFalse\u001b[39;00m, dnn_dropout\u001b[38;5;241m=\u001b[39mdropout, init_std\u001b[38;5;241m=\u001b[39m\u001b[38;5;241m0.0001\u001b[39m)\n\u001b[0;32m      9\u001b[0m model(tf\u001b[38;5;241m.\u001b[39mconstant([[\u001b[38;5;241m0\u001b[39m] \u001b[38;5;241m*\u001b[39m \u001b[38;5;28mlen\u001b[39m(field_dims)], dtype\u001b[38;5;241m=\u001b[39mtf\u001b[38;5;241m.\u001b[39mint64))\n\u001b[1;32m---> 11\u001b[0m \u001b[43mmodel\u001b[49m\u001b[38;5;241;43m.\u001b[39;49m\u001b[43mload_weights\u001b[49m\u001b[43m(\u001b[49m\u001b[38;5;124;43mf\u001b[39;49m\u001b[38;5;124;43m'\u001b[39;49m\u001b[38;5;132;43;01m{\u001b[39;49;00m\u001b[43mmodel_path\u001b[49m\u001b[38;5;132;43;01m}\u001b[39;49;00m\u001b[38;5;124;43m/autoIntMLP_model_weights.weights.h5\u001b[39;49m\u001b[38;5;124;43m'\u001b[39;49m\u001b[43m)\u001b[49m\n\u001b[0;32m     12\u001b[0m label_encoders \u001b[38;5;241m=\u001b[39m joblib\u001b[38;5;241m.\u001b[39mload(\u001b[38;5;124mf\u001b[39m\u001b[38;5;124m'\u001b[39m\u001b[38;5;132;01m{\u001b[39;00mdata_path\u001b[38;5;132;01m}\u001b[39;00m\u001b[38;5;124m/label_encoders.pkl\u001b[39m\u001b[38;5;124m'\u001b[39m)\n",
      "File \u001b[1;32mc:\\Users\\kamin\\miniconda3\\envs\\Autoint\\lib\\site-packages\\keras\\src\\utils\\traceback_utils.py:122\u001b[0m, in \u001b[0;36mfilter_traceback.<locals>.error_handler\u001b[1;34m(*args, **kwargs)\u001b[0m\n\u001b[0;32m    119\u001b[0m     filtered_tb \u001b[38;5;241m=\u001b[39m _process_traceback_frames(e\u001b[38;5;241m.\u001b[39m__traceback__)\n\u001b[0;32m    120\u001b[0m     \u001b[38;5;66;03m# To get the full stack trace, call:\u001b[39;00m\n\u001b[0;32m    121\u001b[0m     \u001b[38;5;66;03m# `keras.config.disable_traceback_filtering()`\u001b[39;00m\n\u001b[1;32m--> 122\u001b[0m     \u001b[38;5;28;01mraise\u001b[39;00m e\u001b[38;5;241m.\u001b[39mwith_traceback(filtered_tb) \u001b[38;5;28;01mfrom\u001b[39;00m\u001b[38;5;250m \u001b[39m\u001b[38;5;28;01mNone\u001b[39;00m\n\u001b[0;32m    123\u001b[0m \u001b[38;5;28;01mfinally\u001b[39;00m:\n\u001b[0;32m    124\u001b[0m     \u001b[38;5;28;01mdel\u001b[39;00m filtered_tb\n",
      "File \u001b[1;32mc:\\Users\\kamin\\miniconda3\\envs\\Autoint\\lib\\site-packages\\keras\\src\\saving\\saving_lib.py:650\u001b[0m, in \u001b[0;36m_raise_loading_failure\u001b[1;34m(error_msgs, warn_only)\u001b[0m\n\u001b[0;32m    648\u001b[0m     warnings\u001b[38;5;241m.\u001b[39mwarn(msg)\n\u001b[0;32m    649\u001b[0m \u001b[38;5;28;01melse\u001b[39;00m:\n\u001b[1;32m--> 650\u001b[0m     \u001b[38;5;28;01mraise\u001b[39;00m \u001b[38;5;167;01mValueError\u001b[39;00m(msg)\n",
      "\u001b[1;31mValueError\u001b[0m: A total of 8 objects could not be loaded. Example error message for object <Dense name=dense_13, built=True>:\n\nLayer 'dense_13' expected 2 variables, but received 0 variables during loading. Expected: ['kernel', 'bias']\n\nList of objects that could not be loaded:\n[<Dense name=dense_13, built=True>, <Dense name=dense_14, built=True>, <Dense name=dense_15, built=True>, <Embedding name=embedding_3, built=True>, <Dense name=dense_12, built=True>, <MultiHeadSelfAttention name=multi_head_self_attention_9, built=True>, <MultiHeadSelfAttention name=multi_head_self_attention_10, built=True>, <MultiHeadSelfAttention name=multi_head_self_attention_11, built=True>]"
     ]
    }
   ],
   "source": [
    "ratings_df = pd.read_csv(f'{data_path}/{movielens_dir_nm}/ratings_prepro.csv')\n",
    "movies_df = pd.read_csv(f'{data_path}/{movielens_dir_nm}/movies_prepro.csv')\n",
    "user_df = pd.read_csv(f'{data_path}/{movielens_dir_nm}/users_prepro.csv')\n",
    "\n",
    "\n",
    "model = AutoIntMLPModel(field_dims, embed_dim, att_layer_num=3, att_head_num=2, att_res=True, dnn_hidden_units=(32, 32), dnn_activation='relu',\n",
    "                             l2_reg_dnn=0, l2_reg_embedding=1e-5, dnn_use_bn=False, dnn_dropout=dropout, init_std=0.0001)\n",
    "\n",
    "model(tf.constant([[0] * len(field_dims)], dtype=tf.int64))\n",
    "\n",
    "model.load_weights(f'{model_path}/autoIntMLP_model_weights.weights.h5')\n",
    "label_encoders = joblib.load(f'{data_path}/label_encoders.pkl')"
   ]
  }
 ],
 "metadata": {
  "kernelspec": {
   "display_name": "Autoint",
   "language": "python",
   "name": "python3"
  },
  "language_info": {
   "codemirror_mode": {
    "name": "ipython",
    "version": 3
   },
   "file_extension": ".py",
   "mimetype": "text/x-python",
   "name": "python",
   "nbconvert_exporter": "python",
   "pygments_lexer": "ipython3",
   "version": "3.10.18"
  }
 },
 "nbformat": 4,
 "nbformat_minor": 5
}
